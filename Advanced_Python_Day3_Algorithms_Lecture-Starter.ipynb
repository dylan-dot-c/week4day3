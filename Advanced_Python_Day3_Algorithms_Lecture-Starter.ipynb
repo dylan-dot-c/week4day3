{
 "cells": [
  {
   "cell_type": "markdown",
   "metadata": {},
   "source": [
    "# Classic Algorithms"
   ]
  },
  {
   "cell_type": "markdown",
   "metadata": {},
   "source": [
    "## Tasks Today:\n",
    "\n",
    "1) <b>Intro to Algorithms</b> <br>\n",
    " &nbsp;&nbsp;&nbsp;&nbsp; a) What are algorithms <br>\n",
    " &nbsp;&nbsp;&nbsp;&nbsp; b) Quick Intro to Big-O Notation <br>\n",
    "2) <b>In-Place Algorithms</b> <br>\n",
    " &nbsp;&nbsp;&nbsp;&nbsp; a) Syntax <br>\n",
    " &nbsp;&nbsp;&nbsp;&nbsp; a) Out of Place Algorithm <br>\n",
    " &nbsp;&nbsp;&nbsp;&nbsp; b) In-Class Exercise #1 <br>\n",
    "3) <b>Two Pointers</b> <br>\n",
    "4) <b>Sorting Algorithms</b> <br>\n",
    "5) <b>Merge Sort</b> <br>\n",
    " &nbsp;&nbsp;&nbsp;&nbsp; a) Video on Algorithms <br>\n",
    " &nbsp;&nbsp;&nbsp;&nbsp; b) How it Works <br>\n",
    "6) <b>Exercises</b> <br>\n",
    " &nbsp;&nbsp;&nbsp;&nbsp; a) Exercise #1 - Reverse a List in Place Using an In-Place Algorithm <br>\n",
    " &nbsp;&nbsp;&nbsp;&nbsp; b) Exercise #2 - Find Distinct Words <br>\n",
    " &nbsp;&nbsp;&nbsp;&nbsp; c) Exercise #3 - Write a program to implement a Linear Search Algorithm. <br>"
   ]
  },
  {
   "cell_type": "markdown",
   "metadata": {},
   "source": [
    "## Intro to Algorithms"
   ]
  },
  {
   "cell_type": "markdown",
   "metadata": {},
   "source": [
    "#### What is an algorithm"
   ]
  },
  {
   "cell_type": "markdown",
   "metadata": {},
   "source": [
    "- An algorithm is a set of instructions for solving a problem \n",
    "- Algorithms are used to solve all types of problems such as sorting data and searching for information\n",
    "- Being able to write efficient algorithms is an important part of being a computer programmer"
   ]
  },
  {
   "cell_type": "markdown",
   "metadata": {},
   "source": [
    "#### Quick Intro to Big O Notation"
   ]
  },
  {
   "cell_type": "markdown",
   "metadata": {},
   "source": [
    "Time and space complexity is the measure of how much time a given action(function) will take to solve a problem. In the same fashion, we determine how much a given data structure will need in terms of memory allocation. A problem can have multiple solutions and finding the optimal solution for the problem needs to be analyzed in time and space.\n",
    "<br>\n",
    "See more <a href=\"https://zippy-lan-200.notion.site/Intro-to-Time-Complexity-ae4a9c7dbefb4b9f9351ade7a2b2fa72\">here</a>"
   ]
  },
  {
   "cell_type": "markdown",
   "metadata": {},
   "source": [
    "## In-Place Algorithms"
   ]
  },
  {
   "cell_type": "markdown",
   "metadata": {},
   "source": [
    "#### Syntax"
   ]
  },
  {
   "cell_type": "code",
   "execution_count": null,
   "metadata": {},
   "outputs": [],
   "source": [
    "my_list = [1, 2, 3, 4, 5, 6]\n"
   ]
  },
  {
   "cell_type": "code",
   "execution_count": null,
   "metadata": {},
   "outputs": [],
   "source": []
  },
  {
   "cell_type": "code",
   "execution_count": 8,
   "metadata": {},
   "outputs": [],
   "source": [
    "# a_list[a], a_list[b] = a_list[b], a_list[a]\n",
    "def swap(list_, index1, index2):\n",
    "    list_[index1], list_[index2] = list_[index2], list_[index1]\n",
    "#     print(list_)\n",
    "    \n",
    "swap([\"a\", \"b\", \"c\", \"d\", \"e\"], 1,2)\n",
    "# swapping list using inplace algo\n",
    "# this will function will be impure becasue it causes sideeffects"
   ]
  },
  {
   "cell_type": "code",
   "execution_count": 9,
   "metadata": {},
   "outputs": [
    {
     "name": "stdout",
     "output_type": "stream",
     "text": [
      "Before ['red', 'green', 'purple', 'orange']\n",
      "after ['red', 'purple', 'green', 'orange']\n"
     ]
    }
   ],
   "source": [
    "new_list = ['red', 'green', 'purple', 'orange']\n",
    "print(\"Before\", new_list)\n",
    "swap(new_list, 1,2)\n",
    "print(\"after\", new_list)"
   ]
  },
  {
   "cell_type": "markdown",
   "metadata": {},
   "source": [
    "#### Out of Place Algorithm"
   ]
  },
  {
   "cell_type": "code",
   "execution_count": 11,
   "metadata": {
    "scrolled": true
   },
   "outputs": [
    {
     "name": "stdout",
     "output_type": "stream",
     "text": [
      "[1, 2, 3, 6, 5, 4, 7, 8]\n"
     ]
    }
   ],
   "source": [
    "# out of place means that it will create a new instance of a variable and returns \n",
    "def  outside_swap(list_, index1, index2):\n",
    "    newlist = list_.copy()\n",
    "    newlist[index1] = list_[index2]\n",
    "    newlist[index2] = list_[index1]\n",
    "    return newlist\n",
    "\n",
    "print(outside_swap([1,2,3,4,5,6,7,8], 3,5))"
   ]
  },
  {
   "cell_type": "code",
   "execution_count": 18,
   "metadata": {},
   "outputs": [
    {
     "name": "stdout",
     "output_type": "stream",
     "text": [
      "None\n",
      "[10, 1, 11, 2, 12, 3, 13, 4, 14, 5, 6, 7, 8, 9]\n"
     ]
    }
   ],
   "source": [
    "nums = list(range(1,15))\n",
    "even = lambda n: n%10\n",
    "print(nums.sort(key=even))\n",
    "print(nums)\n",
    "# sort numbers by even or odd\n",
    "# .sort is inplace"
   ]
  },
  {
   "cell_type": "code",
   "execution_count": 20,
   "metadata": {
    "scrolled": true
   },
   "outputs": [
    {
     "name": "stdout",
     "output_type": "stream",
     "text": [
      "[10, 1, 11, 2, 12, 3, 13, 4, 14, 5, 15, 6, 16, 7, 17, 8, 18, 9, 19]\n",
      "[1, 2, 3, 4, 5, 6, 7, 8, 9, 10, 11, 12, 13, 14, 15, 16, 17, 18, 19]\n"
     ]
    }
   ],
   "source": [
    "num2 = list(range(1,20))\n",
    "print(sorted(num2, key=even))\n",
    "print(num2)\n",
    "# sorted() is out of place... returns new"
   ]
  },
  {
   "cell_type": "markdown",
   "metadata": {},
   "source": [
    "#### In-Class Exercise #1 <br>\n",
    "<p>Write a function that takes in four arguments (a_list, index1, index2, index3), and swaps those three positions in the list passed in.</p>"
   ]
  },
  {
   "cell_type": "code",
   "execution_count": 21,
   "metadata": {},
   "outputs": [
    {
     "name": "stdout",
     "output_type": "stream",
     "text": [
      "[1, 2, 3, 6, 5, 9, 7, 8, 4, 10, 11, 12, 13, 14, 15, 16, 17, 18, 19]\n"
     ]
    }
   ],
   "source": [
    "def swap_three(list_, index1, index2, index3):\n",
    "    list_[index1], list_[index2], list_[index3] = list_[index2], list_[index3], list_[index1]\n",
    "    \n",
    "swap_three(num2, 3,5,8)\n",
    "print(num2)\n",
    "# newcodewars prob idea"
   ]
  },
  {
   "cell_type": "markdown",
   "metadata": {},
   "source": [
    "## Two Pointers"
   ]
  },
  {
   "cell_type": "markdown",
   "metadata": {},
   "source": [
    "#### Syntax"
   ]
  },
  {
   "cell_type": "code",
   "execution_count": null,
   "metadata": {},
   "outputs": [],
   "source": []
  },
  {
   "cell_type": "code",
   "execution_count": null,
   "metadata": {},
   "outputs": [],
   "source": []
  },
  {
   "cell_type": "markdown",
   "metadata": {},
   "source": [
    "# Sorting Algorithms"
   ]
  },
  {
   "cell_type": "code",
   "execution_count": 24,
   "metadata": {},
   "outputs": [
    {
     "name": "stdout",
     "output_type": "stream",
     "text": [
      "Help on method randrange in module random:\n",
      "\n",
      "randrange(start, stop=None, step=1) method of random.Random instance\n",
      "    Choose a random item from range(stop) or range(start, stop[, step]).\n",
      "    \n",
      "    Roughly equivalent to ``choice(range(start, stop, step))`` but\n",
      "    supports arbitrarily large ranges and is optimized for common cases.\n",
      "\n",
      "[18, 19, 16, 3, 6, 5, 16, 4, 9, 19, 6, 10, 4, 14, 10, 11, 15, 5, 3, 15]\n"
     ]
    }
   ],
   "source": [
    "from random import randint\n",
    "\n",
    "list_ = [randint(1,20) for _ in range(20)]\n",
    "help(random.randrange)\n",
    "print(list_)"
   ]
  },
  {
   "cell_type": "markdown",
   "metadata": {},
   "source": [
    "#### Bubble Sort\n",
    "\n",
    "Worst Case: O(n^2) Time - O(1) Space"
   ]
  },
  {
   "cell_type": "code",
   "execution_count": 27,
   "metadata": {},
   "outputs": [
    {
     "name": "stdout",
     "output_type": "stream",
     "text": [
      "[3, 3, 4, 4, 5, 5, 6, 6, 9, 10, 10, 11, 14, 15, 15, 16, 16, 18, 19, 19]\n"
     ]
    }
   ],
   "source": [
    "def bubble_sort(lst):\n",
    "    made_swap = True\n",
    "    while made_swap:\n",
    "        made_swap = False\n",
    "        \n",
    "        for idx in range(len(lst)-1):\n",
    "            if lst[idx] > lst[idx+1]:\n",
    "                lst[idx], lst[idx+1] = lst[idx+1], lst[idx]\n",
    "                made_swap = True\n",
    "bubble_sort(list_)\n",
    "print(list_)"
   ]
  },
  {
   "cell_type": "markdown",
   "metadata": {},
   "source": [
    "##### Insertion Sort\n",
    "\n",
    "Worst Case: O(n^2) time - O(1)space"
   ]
  },
  {
   "cell_type": "code",
   "execution_count": null,
   "metadata": {},
   "outputs": [],
   "source": []
  },
  {
   "cell_type": "code",
   "execution_count": null,
   "metadata": {},
   "outputs": [],
   "source": []
  },
  {
   "cell_type": "markdown",
   "metadata": {},
   "source": [
    "## Merge Sort"
   ]
  },
  {
   "cell_type": "markdown",
   "metadata": {},
   "source": [
    "#### How it Works"
   ]
  },
  {
   "cell_type": "code",
   "execution_count": 58,
   "metadata": {},
   "outputs": [
    {
     "name": "stdout",
     "output_type": "stream",
     "text": [
      "[20, 6, 5, 9, 17, 8, 13, 16, 19, 20, 16, 14, 2, 2, 10, 19, 12, 20, 16, 3]\n"
     ]
    }
   ],
   "source": [
    "toSort = [randint(1,20) for _ in range(20)]\n",
    "print(toSort)"
   ]
  },
  {
   "cell_type": "code",
   "execution_count": 61,
   "metadata": {},
   "outputs": [
    {
     "name": "stdout",
     "output_type": "stream",
     "text": [
      "[2, 2, 5, 6, 9, 20, 8, 17, 13, 16, 19, 14, 20, 16, 10, 3, 12, 16, 19, 20]\n",
      "[2, 2, 5, 6, 9, 20, 8, 17, 13, 16]\n",
      "[2, 2, 5, 6, 9]\n",
      "[2, 2]\n",
      "[5, 6, 9]\n",
      "[6, 9]\n",
      "[20, 8, 17, 13, 16]\n",
      "[20, 8]\n",
      "[17, 13, 16]\n",
      "[13, 16]\n",
      "[19, 14, 20, 16, 10, 3, 12, 16, 19, 20]\n",
      "[19, 14, 20, 16, 10]\n",
      "[19, 14]\n",
      "[20, 16, 10]\n",
      "[16, 10]\n",
      "[3, 12, 16, 19, 20]\n",
      "[3, 12]\n",
      "[16, 19, 20]\n",
      "[19, 20]\n"
     ]
    }
   ],
   "source": [
    "def merge_sort(lst):\n",
    "    if len(lst) > 1:\n",
    "        midway = len(lst)//2\n",
    "#         find midway\n",
    "#         split list into left and right\n",
    "        print(lst)\n",
    "        left_half = lst[:midway]\n",
    "        right_half = lst[midway:]\n",
    "#         call merge sort on both right and left\n",
    "        merge_sort(left_half)\n",
    "        merge_sort(right_half)\n",
    "#         now merge into original\n",
    "        l = 0 #LEFT HALF\n",
    "        r = 0 #RIGHT HALF\n",
    "        m = 0 #main list\n",
    "        \n",
    "        while l < len(left_half) and r < len(right_half):\n",
    "#             if the element we are pointing to in the left half is less than the element in the right half \n",
    "            if left_half[l] < right_half[r]:\n",
    "                lst[m] = left_half[l]\n",
    "                l += 1\n",
    "            else:\n",
    "                lst[m] = right_half[r]\n",
    "                r += 1\n",
    "            m += 1\n",
    "            \n",
    "#             if one half is finish, add the other half to the original list\n",
    "            while l < len(left_half):\n",
    "                lst[m] = left_half[l]\n",
    "                l += 1\n",
    "                m += 1\n",
    "            while r < len(right_half):\n",
    "                lst[m] = right_half[r]\n",
    "                r += 1\n",
    "                m += 1\n",
    "                \n",
    "    \n",
    "\n",
    "merge_sort(toSort)\n",
    "        "
   ]
  },
  {
   "cell_type": "markdown",
   "metadata": {},
   "source": [
    "# Binary Search\n",
    "\n",
    "The Binary Search algorithm works by finding the number in the middle of a given array and comparing it to the target. **Given that the array is sorted**\n",
    "\n",
    "* The worst case run time for this algorithm is `O(log(n))`"
   ]
  },
  {
   "cell_type": "code",
   "execution_count": 53,
   "metadata": {},
   "outputs": [
    {
     "name": "stdout",
     "output_type": "stream",
     "text": [
      "[2, 3, 3, 5, 5, 6, 6, 9, 10, 12, 16, 16, 16, 16, 17, 18, 19, 19, 19, 20]\n"
     ]
    },
    {
     "data": {
      "text/plain": [
       "'10 found at 8'"
      ]
     },
     "execution_count": 53,
     "metadata": {},
     "output_type": "execute_result"
    }
   ],
   "source": [
    "# Less == Left\n",
    "# Greater == Right\n",
    "# List of numbers MUST be sorted\n",
    "\n",
    "randoms = [randint(1,20) for _ in range(20)]\n",
    "randoms.sort()\n",
    "print(randoms)\n",
    "\n",
    "def binarySearch(array, target):\n",
    "    found = False\n",
    "    start = 0\n",
    "    end = len(array) - 1\n",
    "    while start <= end:\n",
    "        mid = (start + end) // 2\n",
    "        if array[mid] == target:\n",
    "            return f\"{target} found at {mid}\"\n",
    "        if array[mid] > target:\n",
    "            end = mid - 1\n",
    "        else:\n",
    "            start = mid + 1\n",
    "    return -1\n",
    "\n",
    "binarySearch(randoms, 10)\n",
    "            "
   ]
  },
  {
   "cell_type": "markdown",
   "metadata": {},
   "source": [
    "# Exercises"
   ]
  },
  {
   "cell_type": "markdown",
   "metadata": {},
   "source": [
    "### Exercise #1 <br>\n",
    "<p>Write a function that takes a list of integers and returns the median value</p>"
   ]
  },
  {
   "cell_type": "code",
   "execution_count": 78,
   "metadata": {},
   "outputs": [
    {
     "name": "stdout",
     "output_type": "stream",
     "text": [
      "[1, 2, 3, 4, 5]\n"
     ]
    },
    {
     "data": {
      "text/plain": [
       "3"
      ]
     },
     "execution_count": 78,
     "metadata": {},
     "output_type": "execute_result"
    }
   ],
   "source": [
    "numbers = list(range(1,6))\n",
    "# if len of array is even then (mid-1 + mid) // 2\n",
    "# else mid // 2\n",
    "print(numbers)\n",
    "def median(array):\n",
    "    mid = len(array) // 2\n",
    "    if len(array) % 2 == 0:\n",
    "        avg = (array[mid-1] + array[mid]) / 2\n",
    "    else:\n",
    "        avg = array[mid]\n",
    "        \n",
    "    return avg\n",
    "\n",
    "median(numbers)"
   ]
  },
  {
   "cell_type": "markdown",
   "metadata": {},
   "source": [
    "### Exercise #2 <br>\n",
    "<p>Create a function that counts how many distinct words are in the string below, then outputs a dictionary with the words as the key and the value as the amount of times that word appears in the string.</p>\n",
    "Example Output:<code>{'in': 1, 'computing': 1, 'a': 5, ...}</code>"
   ]
  },
  {
   "cell_type": "code",
   "execution_count": 77,
   "metadata": {},
   "outputs": [
    {
     "name": "stdout",
     "output_type": "stream",
     "text": [
      "{'In': 1, 'computing,': 1, 'a': 4, 'hash': 4, 'table': 2, 'map': 2, 'is': 1, 'data': 2, 'structure': 2, 'which': 2, 'implements': 1, 'an': 3, 'associative': 1, 'array': 2, 'abstract': 1, 'type,': 1, 'that': 1, 'can': 2, 'keys': 1, 'to': 2, 'values.': 1, 'A': 1, 'uses': 1, 'function': 1, 'compute': 1, 'index': 1, 'into': 1, 'of': 1, 'buckets': 1, 'or': 1, 'slots': 1, 'from': 1, 'the': 1, 'desired': 1, 'value': 1, 'be': 1, 'found': 1}\n"
     ]
    }
   ],
   "source": [
    "# from collections import Counter\n",
    "a_text = 'In computing, a hash table hash map is a data structure which implements an associative array abstract data type, a structure that can map keys to values. A hash table uses a hash function to compute an index into an array of buckets or slots from which the desired value can be found'\n",
    "# print(Counter(a_text.split())) cheating way...\n",
    "def count_words(string):\n",
    "    result = {}\n",
    "    words = string.split()\n",
    "    for word in words:\n",
    "        if word in result:\n",
    "            result[word] += 1\n",
    "        else:\n",
    "            result[word] = 1\n",
    "    return result\n",
    "\n",
    "result = count_words(a_text)\n",
    "print(result)\n"
   ]
  },
  {
   "cell_type": "markdown",
   "metadata": {},
   "source": [
    "## Exercise #3\n",
    "\n",
    "Write a function implementing a Linear Search Algorithm. A linear search is a method for finding an element within a list. It sequentially checks each element of the list until a match is found or the whole list has been searched. If you do not find a match, return -1"
   ]
  },
  {
   "cell_type": "code",
   "execution_count": 72,
   "metadata": {},
   "outputs": [
    {
     "name": "stdout",
     "output_type": "stream",
     "text": [
      "Target found at index 5\n"
     ]
    }
   ],
   "source": [
    "def linear_search(array, target):\n",
    "    for index in range(len(array)):\n",
    "        if array[index] == target:\n",
    "            return index\n",
    "#        returns it since we dont care once we found what we looking for \n",
    "    else:\n",
    "        return -1\n",
    "# -1 means its not found... not the last element of the array\n",
    "pos = linear_search(range(10), 5)\n",
    "print('Target found at index', pos)"
   ]
  },
  {
   "cell_type": "code",
   "execution_count": null,
   "metadata": {},
   "outputs": [],
   "source": []
  }
 ],
 "metadata": {
  "kernelspec": {
   "display_name": "Python 3 (ipykernel)",
   "language": "python",
   "name": "python3"
  },
  "language_info": {
   "codemirror_mode": {
    "name": "ipython",
    "version": 3
   },
   "file_extension": ".py",
   "mimetype": "text/x-python",
   "name": "python",
   "nbconvert_exporter": "python",
   "pygments_lexer": "ipython3",
   "version": "3.11.4"
  }
 },
 "nbformat": 4,
 "nbformat_minor": 2
}
